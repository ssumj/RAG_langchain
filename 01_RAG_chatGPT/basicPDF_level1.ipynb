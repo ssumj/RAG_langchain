{
 "cells": [
  {
   "cell_type": "markdown",
   "metadata": {},
   "source": [
    "- PDF 파일을 openAI 의 API 를 사용하여 RAG 검색 "
   ]
  },
  {
   "cell_type": "code",
   "execution_count": 1,
   "metadata": {},
   "outputs": [
    {
     "data": {
      "text/plain": [
       "True"
      ]
     },
     "execution_count": 1,
     "metadata": {},
     "output_type": "execute_result"
    }
   ],
   "source": [
    "# API 키를 환경변수로 관리하기 위한 설정 파일\n",
    "import os\n",
    "from dotenv import load_dotenv\n",
    "\n",
    "# API 키 정보 로드\n",
    "load_dotenv()"
   ]
  },
  {
   "cell_type": "code",
   "execution_count": 2,
   "metadata": {},
   "outputs": [],
   "source": [
    "def langsmith(project_name=None, set_enable=True):\n",
    "\n",
    "    if set_enable:\n",
    "        langchain_key = os.environ.get(\"LANGCHAIN_API_KEY\", \"\")\n",
    "        langsmith_key = os.environ.get(\"LANGSMITH_API_KEY\", \"\")\n",
    "\n",
    "        # 더 긴 API 키 선택\n",
    "        if len(langchain_key.strip()) >= len(langsmith_key.strip()):\n",
    "            result = langchain_key\n",
    "        else:\n",
    "            result = langsmith_key\n",
    "\n",
    "        if result.strip() == \"\":\n",
    "            print(\n",
    "                \"LangChain/LangSmith API Key가 설정되지 않았습니다. 참고: https://wikidocs.net/250954\"\n",
    "            )\n",
    "            return\n",
    "\n",
    "        os.environ[\"LANGSMITH_ENDPOINT\"] = (\n",
    "            \"https://api.smith.langchain.com\"  # LangSmith API 엔드포인트\n",
    "        )\n",
    "        os.environ[\"LANGSMITH_TRACING\"] = \"true\"  # true: 활성화\n",
    "        os.environ[\"LANGSMITH_PROJECT\"] = project_name  # 프로젝트명\n",
    "        print(f\"LangSmith 추적을 시작합니다.\\n[프로젝트명]\\n{project_name}\")\n",
    "    else:\n",
    "        os.environ[\"LANGSMITH_TRACING\"] = \"false\"  # false: 비활성화\n",
    "        print(\"LangSmith 추적을 하지 않습니다.\")\n",
    "\n",
    "\n",
    "def env_variable(key, value):\n",
    "    os.environ[key] = value"
   ]
  },
  {
   "cell_type": "code",
   "execution_count": 3,
   "metadata": {},
   "outputs": [
    {
     "name": "stdout",
     "output_type": "stream",
     "text": [
      "LangSmith 추적을 시작합니다.\n",
      "[프로젝트명]\n",
      "ChatGPT_RAG\n"
     ]
    }
   ],
   "source": [
    "# 프로젝트 이름 입력\n",
    "langsmith(\"ChatGPT_RAG\")"
   ]
  },
  {
   "cell_type": "code",
   "execution_count": 5,
   "metadata": {},
   "outputs": [
    {
     "name": "stdout",
     "output_type": "stream",
     "text": [
      "문서의 페이지수: 113\n",
      "분할된 청크의수: 102\n"
     ]
    }
   ],
   "source": [
    "from langchain_text_splitters import RecursiveCharacterTextSplitter\n",
    "from langchain_community.document_loaders import PyMuPDFLoader\n",
    "from langchain_community.vectorstores import FAISS\n",
    "from langchain_core.output_parsers import StrOutputParser\n",
    "from langchain_core.runnables import RunnablePassthrough\n",
    "from langchain_core.prompts import PromptTemplate\n",
    "from langchain_openai import ChatOpenAI, OpenAIEmbeddings\n",
    "\n",
    "# 단계 1: 문서 로드(Load Documents)\n",
    "loader = PyMuPDFLoader(\"data/AI기반_인파분석플랫폼구축_제안서.pdf\")\n",
    "docs = loader.load()\n",
    "print(f\"문서의 페이지수: {len(docs)}\")\n",
    "\n",
    "# 단계 2: 문서 분할(Split Documents)\n",
    "text_splitter = RecursiveCharacterTextSplitter(chunk_size=500, chunk_overlap=50)\n",
    "split_documents = text_splitter.split_documents(docs)\n",
    "print(f\"분할된 청크의수: {len(split_documents)}\")"
   ]
  },
  {
   "cell_type": "code",
   "execution_count": 6,
   "metadata": {},
   "outputs": [],
   "source": [
    "# 단계 3: 임베딩(Embedding) 생성\n",
    "embeddings = OpenAIEmbeddings()"
   ]
  },
  {
   "cell_type": "code",
   "execution_count": 7,
   "metadata": {},
   "outputs": [],
   "source": [
    "# 단계 4: DB 생성(Create DB) 및 저장\n",
    "# 벡터스토어를 생성합니다.\n",
    "vectorstore = FAISS.from_documents(documents=split_documents, embedding=embeddings)"
   ]
  },
  {
   "cell_type": "code",
   "execution_count": 15,
   "metadata": {},
   "outputs": [],
   "source": [
    "# 단계 5: 검색기(Retriever) 생성\n",
    "# 문서에 포함되어 있는 정보를 검색하고 생성합니다.\n",
    "retriever = vectorstore.as_retriever(search_type=\"similarity\", search_kwargs={\"k\": 5})"
   ]
  },
  {
   "cell_type": "code",
   "execution_count": 16,
   "metadata": {},
   "outputs": [
    {
     "data": {
      "text/plain": [
       "[Document(id='75f5b2fd-3ef2-4285-9a59-b65386609364', metadata={'producer': '알PDF', 'creator': '알PDF', 'creationdate': '2024-06-09T21:45:38+09:00', 'source': 'data/AI기반_인파분석플랫폼구축_제안서.pdf', 'file_path': 'data/AI기반_인파분석플랫폼구축_제안서.pdf', 'total_pages': 113, 'format': 'PDF 1.7', 'title': '합치기_2', 'author': '유선철', 'subject': '', 'keywords': '', 'moddate': '2024-06-09T21:57:34+09:00', 'trapped': '', 'page': 51}, page_content='SFR-002\\nSec \\n1-2\\n위치: 경북포항시북구상대로\\n59-1\\n상태: 정상'),\n",
       " Document(id='0e524263-32c7-441a-877f-28ad7f27fe93', metadata={'producer': '알PDF', 'creator': '알PDF', 'creationdate': '2024-06-09T21:45:38+09:00', 'source': 'data/AI기반_인파분석플랫폼구축_제안서.pdf', 'file_path': 'data/AI기반_인파분석플랫폼구축_제안서.pdf', 'total_pages': 113, 'format': 'PDF 1.7', 'title': '합치기_2', 'author': '유선철', 'subject': '', 'keywords': '', 'moddate': '2024-06-09T21:57:34+09:00', 'trapped': '', 'page': 0}, page_content='접수\\n번호\\n「AI 기반 인파 분석 플랫폼 구축」\\n제  안  서'),\n",
       " Document(id='2dddb607-3ca8-424f-adcb-68b918a39d86', metadata={'producer': '알PDF', 'creator': '알PDF', 'creationdate': '2024-06-09T21:45:38+09:00', 'source': 'data/AI기반_인파분석플랫폼구축_제안서.pdf', 'file_path': 'data/AI기반_인파분석플랫폼구축_제안서.pdf', 'total_pages': 113, 'format': 'PDF 1.7', 'title': '합치기_2', 'author': '유선철', 'subject': '', 'keywords': '', 'moddate': '2024-06-09T21:57:34+09:00', 'trapped': '', 'page': 57}, page_content='SFR-006\\nSection 1-1 \\n32명(원활)\\nSection 1-1 \\n117명(경계)\\nSection 1-1 \\n231명(심각)'),\n",
       " Document(id='796b118e-f452-4343-ba90-45cb3fb6de98', metadata={'producer': '알PDF', 'creator': '알PDF', 'creationdate': '2024-06-09T21:45:38+09:00', 'source': 'data/AI기반_인파분석플랫폼구축_제안서.pdf', 'file_path': 'data/AI기반_인파분석플랫폼구축_제안서.pdf', 'total_pages': 113, 'format': 'PDF 1.7', 'title': '합치기_2', 'author': '유선철', 'subject': '', 'keywords': '', 'moddate': '2024-06-09T21:57:34+09:00', 'trapped': '', 'page': 10}, page_content='방문객수\\n연도\\n151만명\\n2019 년\\n189만명\\n2018 년\\n203만명\\n2017 년\\n187만명\\n2016 년\\n103만명\\n2015 년\\n방문객수\\n행사명\\n연도\\n3.5만명\\n청년문화페스티벌\\n2023 년\\n1.5만명\\n붐업페스티벌\\n2018 년\\n-\\n-\\n-\\n-\\n-\\n-'),\n",
       " Document(id='b54f8b35-efad-424e-a01f-ff90a02d92db', metadata={'producer': '알PDF', 'creator': '알PDF', 'creationdate': '2024-06-09T21:45:38+09:00', 'source': 'data/AI기반_인파분석플랫폼구축_제안서.pdf', 'file_path': 'data/AI기반_인파분석플랫폼구축_제안서.pdf', 'total_pages': 113, 'format': 'PDF 1.7', 'title': '합치기_2', 'author': '유선철', 'subject': '', 'keywords': '', 'moddate': '2024-06-09T21:57:34+09:00', 'trapped': '', 'page': 92}, page_content='행정안전부\\nGIS기반통합상황관리시스템\\n광주광역시서구청\\nGIS기반통합방재시스템\\n철도특별사법경찰대\\n철도방범CCTV 및철도보안정보센터\\n모니터링시스템개량\\n경기도양평군\\n스마트시티IN 양평\\nSI분야24년\\n경력\\n특급기술자\\nSW')]"
      ]
     },
     "execution_count": 16,
     "metadata": {},
     "output_type": "execute_result"
    }
   ],
   "source": [
    "# 검색기에 쿼리를 날려 검색된 chunk 결과를 확인합니다.\n",
    "retriever.invoke(\"포항에서 열리는 축제 이름은?\")"
   ]
  },
  {
   "cell_type": "code",
   "execution_count": 10,
   "metadata": {},
   "outputs": [],
   "source": [
    "# 단계 6: 프롬프트 생성(Create Prompt)\n",
    "# 프롬프트를 생성합니다.\n",
    "prompt = PromptTemplate.from_template(\n",
    "    \"\"\"You are an assistant for question-answering tasks. \n",
    "Use the following pieces of retrieved context to answer the question. \n",
    "If you don't know the answer, just say that you don't know. \n",
    "Answer in Korean.\n",
    "\n",
    "#Context: \n",
    "{context}\n",
    "\n",
    "#Question:\n",
    "{question}\n",
    "\n",
    "#Answer:\"\"\"\n",
    ")"
   ]
  },
  {
   "cell_type": "code",
   "execution_count": 11,
   "metadata": {},
   "outputs": [],
   "source": [
    "# 단계 7: 언어모델(LLM) 생성\n",
    "# 모델(LLM) 을 생성합니다.\n",
    "llm = ChatOpenAI(model_name=\"gpt-4o\", temperature=0)"
   ]
  },
  {
   "cell_type": "code",
   "execution_count": 12,
   "metadata": {},
   "outputs": [],
   "source": [
    "# 단계 8: 체인(Chain) 생성\n",
    "chain = (\n",
    "    {\"context\": retriever, \"question\": RunnablePassthrough()}\n",
    "    | prompt\n",
    "    | llm\n",
    "    | StrOutputParser()\n",
    ")"
   ]
  },
  {
   "cell_type": "code",
   "execution_count": 13,
   "metadata": {},
   "outputs": [
    {
     "name": "stdout",
     "output_type": "stream",
     "text": [
      "청년문화페스티벌\n"
     ]
    }
   ],
   "source": [
    "# 체인 실행(Run Chain)\n",
    "# 문서에 대한 질의를 입력하고, 답변을 출력합니다.\n",
    "question = \"포항에서 열리는 축제 이름은?\"\n",
    "response = chain.invoke(question)\n",
    "print(response)"
   ]
  },
  {
   "cell_type": "code",
   "execution_count": 14,
   "metadata": {},
   "outputs": [
    {
     "name": "stdout",
     "output_type": "stream",
     "text": [
      "모르겠습니다.\n"
     ]
    }
   ],
   "source": [
    "question = \"청년 문화 페스티벌의 2024년 방문자수가 몇명이야?\"\n",
    "response = chain.invoke(question)\n",
    "print(response)"
   ]
  },
  {
   "cell_type": "code",
   "execution_count": 19,
   "metadata": {},
   "outputs": [
    {
     "name": "stdout",
     "output_type": "stream",
     "text": [
      "그 문서에는 피플카운팅에 관한 내용이 포함되어 있습니다. \"구역별 유동인구 수집 및 분석\"이라는 항목이 언급되어 있습니다.\n"
     ]
    }
   ],
   "source": [
    "question = \"문서에 피플카운팅에 관한 내용이 들어있어?\"\n",
    "response = chain.invoke(question)\n",
    "print(response)"
   ]
  },
  {
   "cell_type": "code",
   "execution_count": 20,
   "metadata": {},
   "outputs": [
    {
     "name": "stdout",
     "output_type": "stream",
     "text": [
      "모르겠습니다.\n"
     ]
    }
   ],
   "source": [
    "question = \"몇 페이지야?\"\n",
    "response = chain.invoke(question)\n",
    "print(response)"
   ]
  },
  {
   "cell_type": "code",
   "execution_count": 21,
   "metadata": {},
   "outputs": [
    {
     "name": "stdout",
     "output_type": "stream",
     "text": [
      "그에 대한 정보는 제공된 문서에서 찾을 수 없습니다.\n"
     ]
    }
   ],
   "source": [
    "question = \"피플 카운팅에 관한 내용은 몇 페이지에 있어?\"\n",
    "response = chain.invoke(question)\n",
    "print(response)"
   ]
  },
  {
   "cell_type": "code",
   "execution_count": null,
   "metadata": {},
   "outputs": [],
   "source": []
  }
 ],
 "metadata": {
  "kernelspec": {
   "display_name": ".venv",
   "language": "python",
   "name": "python3"
  },
  "language_info": {
   "codemirror_mode": {
    "name": "ipython",
    "version": 3
   },
   "file_extension": ".py",
   "mimetype": "text/x-python",
   "name": "python",
   "nbconvert_exporter": "python",
   "pygments_lexer": "ipython3",
   "version": "3.11.9"
  }
 },
 "nbformat": 4,
 "nbformat_minor": 2
}

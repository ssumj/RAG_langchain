{
 "cells": [
  {
   "cell_type": "markdown",
   "metadata": {},
   "source": [
    "## 로컬 환경에서 PDF 파일 RAG 검색하기 3단계 \n",
    "### - 사용한 임베딩 모델 : jhgan/ko-sroberta-multitask\n",
    "### - 사용한 LLM 모델 : llama3.2\n",
    "\n",
    "__step2__\n",
    "- PDF 문서 여러개 로드 (data 폴더에 있는 문서 전부 로드)\n",
    "- 문서를 임베딩하여 csv 파일로 저장 (저장 경로 : csv 폴더)\n",
    "- csv 파일을 FAISS 인덱싱 : 결과물이 인덱스로 나옴\n",
    "- FAISS 인덱스를 파일로 만들어 디스크에 저장\n",
    "\n",
    "- FAISS 인덱스와 랭체인 FAISS 인덱스는 구분됨\n",
    "- csv 파일로 랭체인 FAISS 인덱스 생성하여 검색하기 까지 구현"
   ]
  },
  {
   "cell_type": "code",
   "execution_count": 2,
   "metadata": {},
   "outputs": [
    {
     "name": "stderr",
     "output_type": "stream",
     "text": [
      "/Library/Frameworks/Python.framework/Versions/3.12/lib/python3.12/site-packages/tqdm/auto.py:21: TqdmWarning: IProgress not found. Please update jupyter and ipywidgets. See https://ipywidgets.readthedocs.io/en/stable/user_install.html\n",
      "  from .autonotebook import tqdm as notebook_tqdm\n"
     ]
    },
    {
     "name": "stdout",
     "output_type": "stream",
     "text": [
      "임베딩 데이터가 csv/SPRI_AI_Brief_2023년12월호_F.csv 파일에 저장되었습니다.\n",
      "임베딩 데이터가 csv/AI기반_인파분석플랫폼구축_제안서.csv 파일에 저장되었습니다.\n",
      "임베딩 데이터가 csv/운영체제_중간과제물.csv 파일에 저장되었습니다.\n"
     ]
    }
   ],
   "source": [
    "# 필요한 라이브러리 임포트\n",
    "from langchain.document_loaders import DirectoryLoader,PyMuPDFLoader\n",
    "from langchain.text_splitter import RecursiveCharacterTextSplitter\n",
    "from langchain.vectorstores import FAISS\n",
    "from langchain.docstore.document import Document\n",
    "from langchain_core.embeddings import Embeddings  \n",
    "from sentence_transformers import SentenceTransformer\n",
    "\n",
    "import csv\n",
    "import faiss\n",
    "import numpy as np\n",
    "import pandas as pd\n",
    "import os\n",
    "\n",
    "# 1. 문서 로드\n",
    "# data 폴더 안에 있는 pdf 파일 전부 로드하기\n",
    "loader = DirectoryLoader(\n",
    "    'data',\n",
    "    glob='*.pdf',\n",
    "    loader_cls=PyMuPDFLoader\n",
    ")\n",
    "docs = loader.load()\n",
    "\n",
    "# 2. 문서 분할\n",
    "# 텍스트를 1000자 단위로 나눔 (chunk size), 각 청크 간 50자씩 겹치도록 설정\n",
    "text_splitter = RecursiveCharacterTextSplitter(chunk_size=1000, chunk_overlap=50)\n",
    "split_documents = text_splitter.split_documents(docs)\n",
    "\n",
    "# 3. 임베딩을 하기 위한 클래스 생성\n",
    "class KoSentenceTransformerEmbeddings(Embeddings):\n",
    "    # 임베딩 모델 초기화 \n",
    "    def __init__(self, model_name):\n",
    "        self.model = SentenceTransformer(model_name)\n",
    "    # 여러개의 문서를 임베딩하여 벡터 데이터 생성 , 벡터화 된 각 문서가 리스트 형태로 반환 \n",
    "    def embed_documents(self, texts):\n",
    "        return self.model.encode(texts, convert_to_numpy=True).tolist()\n",
    "    # 검색 쿼리를 벡터화 \n",
    "    def embed_query(self, text):\n",
    "        return self.model.encode([text], convert_to_numpy=True).tolist()[0]\n",
    "    \n",
    "# 3.1. 임베드 모델 로딩\n",
    "embedding_model = KoSentenceTransformerEmbeddings(\"jhgan/ko-sroberta-multitask\")\n",
    "\n",
    "# 3.2 문서를 임베딩 하여 csv 파일로 저장하기 위한 함수 생성\n",
    "def save_embeddings_to_csv(documents, embedding_model, file_path):\n",
    "    os.makedirs(file_path, exist_ok=True)\n",
    "\n",
    "    file_docs = {}\n",
    "    for doc in documents:\n",
    "        file_name = os.path.basename(doc.metadata['source']).replace('.pdf','')\n",
    "        if file_name not in file_docs:\n",
    "            file_docs[file_name] = []\n",
    "        file_docs[file_name].append(doc)\n",
    "    \n",
    "    for file_name, docs in file_docs.items():\n",
    "        full_path = os.path.join(file_path, f\"{file_name}.csv\")\n",
    "\n",
    "        #  임베딩 \n",
    "        embeddings = embedding_model.embed_documents([doc.page_content for doc in docs])\n",
    "        #  임베딩 결과를 CSV 로 저장\n",
    "        with open(full_path, mode='w', newline='', encoding='utf-8') as file:\n",
    "            writer = csv.writer(file)\n",
    "            writer.writerow([\"document\", \"embedding\"])\n",
    "            \n",
    "            for doc, embedding in zip(docs, embeddings):\n",
    "                writer.writerow([doc.page_content, embedding])\n",
    "        \n",
    "        print(f\"임베딩 데이터가 {full_path} 파일에 저장되었습니다.\")       \n",
    "    \n",
    "# 3.3 함수 실행 하여 CSV 파일 생성\n",
    "save_embeddings_to_csv(split_documents, embedding_model, 'csv/')\n"
   ]
  },
  {
   "cell_type": "code",
   "execution_count": 3,
   "metadata": {},
   "outputs": [
    {
     "ename": "ValueError",
     "evalue": "too many values to unpack (expected 2)",
     "output_type": "error",
     "traceback": [
      "\u001b[0;31m---------------------------------------------------------------------------\u001b[0m",
      "\u001b[0;31mValueError\u001b[0m                                Traceback (most recent call last)",
      "Cell \u001b[0;32mIn[3], line 36\u001b[0m\n\u001b[1;32m     33\u001b[0m documents, embeddings \u001b[38;5;241m=\u001b[39m load_documents_and_embeddings(csv_filepath)\n\u001b[1;32m     35\u001b[0m \u001b[38;5;66;03m# FAISS 저장\u001b[39;00m\n\u001b[0;32m---> 36\u001b[0m \u001b[43mcreate_and_save_langchain_faiss\u001b[49m\u001b[43m(\u001b[49m\u001b[43mdocuments\u001b[49m\u001b[43m,\u001b[49m\u001b[43m \u001b[49m\u001b[43membeddings\u001b[49m\u001b[43m,\u001b[49m\u001b[43m \u001b[49m\u001b[43msave_path\u001b[49m\u001b[43m)\u001b[49m\n",
      "Cell \u001b[0;32mIn[3], line 23\u001b[0m, in \u001b[0;36mcreate_and_save_langchain_faiss\u001b[0;34m(documents, embeddings, save_path)\u001b[0m\n\u001b[1;32m     22\u001b[0m \u001b[38;5;28;01mdef\u001b[39;00m\u001b[38;5;250m \u001b[39m\u001b[38;5;21mcreate_and_save_langchain_faiss\u001b[39m(documents, embeddings, save_path):\n\u001b[0;32m---> 23\u001b[0m     vector_store \u001b[38;5;241m=\u001b[39m \u001b[43mFAISS\u001b[49m\u001b[38;5;241;43m.\u001b[39;49m\u001b[43mfrom_embeddings\u001b[49m\u001b[43m(\u001b[49m\u001b[43membeddings\u001b[49m\u001b[43m,\u001b[49m\u001b[43m \u001b[49m\u001b[43mdocuments\u001b[49m\u001b[43m)\u001b[49m  \u001b[38;5;66;03m# 벡터 저장소 생성\u001b[39;00m\n\u001b[1;32m     24\u001b[0m     vector_store\u001b[38;5;241m.\u001b[39msave_local(save_path)  \u001b[38;5;66;03m# 저장\u001b[39;00m\n\u001b[1;32m     25\u001b[0m     \u001b[38;5;28mprint\u001b[39m(\u001b[38;5;124mf\u001b[39m\u001b[38;5;124m\"\u001b[39m\u001b[38;5;124m✅ LangChain FAISS 인덱스가 \u001b[39m\u001b[38;5;132;01m{\u001b[39;00msave_path\u001b[38;5;132;01m}\u001b[39;00m\u001b[38;5;124m 에 저장되었습니다.\u001b[39m\u001b[38;5;124m\"\u001b[39m)\n",
      "File \u001b[0;32m/Library/Frameworks/Python.framework/Versions/3.12/lib/python3.12/site-packages/langchain_community/vectorstores/faiss.py:1119\u001b[0m, in \u001b[0;36mFAISS.from_embeddings\u001b[0;34m(cls, text_embeddings, embedding, metadatas, ids, **kwargs)\u001b[0m\n\u001b[1;32m   1090\u001b[0m \u001b[38;5;129m@classmethod\u001b[39m\n\u001b[1;32m   1091\u001b[0m \u001b[38;5;28;01mdef\u001b[39;00m\u001b[38;5;250m \u001b[39m\u001b[38;5;21mfrom_embeddings\u001b[39m(\n\u001b[1;32m   1092\u001b[0m     \u001b[38;5;28mcls\u001b[39m,\n\u001b[0;32m   (...)\u001b[0m\n\u001b[1;32m   1097\u001b[0m     \u001b[38;5;241m*\u001b[39m\u001b[38;5;241m*\u001b[39mkwargs: Any,\n\u001b[1;32m   1098\u001b[0m ) \u001b[38;5;241m-\u001b[39m\u001b[38;5;241m>\u001b[39m FAISS:\n\u001b[1;32m   1099\u001b[0m \u001b[38;5;250m    \u001b[39m\u001b[38;5;124;03m\"\"\"Construct FAISS wrapper from raw documents.\u001b[39;00m\n\u001b[1;32m   1100\u001b[0m \n\u001b[1;32m   1101\u001b[0m \u001b[38;5;124;03m    This is a user friendly interface that:\u001b[39;00m\n\u001b[0;32m   (...)\u001b[0m\n\u001b[1;32m   1117\u001b[0m \u001b[38;5;124;03m            faiss = FAISS.from_embeddings(text_embedding_pairs, embeddings)\u001b[39;00m\n\u001b[1;32m   1118\u001b[0m \u001b[38;5;124;03m    \"\"\"\u001b[39;00m\n\u001b[0;32m-> 1119\u001b[0m     texts, embeddings \u001b[38;5;241m=\u001b[39m \u001b[38;5;28mzip\u001b[39m(\u001b[38;5;241m*\u001b[39mtext_embeddings)\n\u001b[1;32m   1120\u001b[0m     \u001b[38;5;28;01mreturn\u001b[39;00m \u001b[38;5;28mcls\u001b[39m\u001b[38;5;241m.\u001b[39m__from(\n\u001b[1;32m   1121\u001b[0m         \u001b[38;5;28mlist\u001b[39m(texts),\n\u001b[1;32m   1122\u001b[0m         \u001b[38;5;28mlist\u001b[39m(embeddings),\n\u001b[0;32m   (...)\u001b[0m\n\u001b[1;32m   1126\u001b[0m         \u001b[38;5;241m*\u001b[39m\u001b[38;5;241m*\u001b[39mkwargs,\n\u001b[1;32m   1127\u001b[0m     )\n",
      "\u001b[0;31mValueError\u001b[0m: too many values to unpack (expected 2)"
     ]
    }
   ],
   "source": [
    "import os\n",
    "import pandas as pd\n",
    "import numpy as np\n",
    "from langchain.vectorstores import FAISS\n",
    "from langchain.schema import Document\n",
    "from langchain.embeddings import HuggingFaceEmbeddings  # KoSentenceTransformer 대체 가능\n",
    "\n",
    "# 🔹 CSV에서 문서 및 임베딩 로드\n",
    "def load_documents_and_embeddings(csv_filepath):\n",
    "    df = pd.read_csv(csv_filepath)\n",
    "\n",
    "    # 문서 리스트 생성\n",
    "    documents = [Document(page_content=row[\"document\"]) for _, row in df.iterrows()]\n",
    "    \n",
    "    # 문자열로 저장된 벡터를 numpy 배열로 변환\n",
    "    df[\"embedding\"] = df[\"embedding\"].apply(lambda x: np.fromstring(x[1:-1], sep=','))\n",
    "    embeddings = np.vstack(df[\"embedding\"].values).astype(\"float32\")\n",
    "\n",
    "    return documents, embeddings\n",
    "\n",
    "# 🔹 LangChain FAISS 인덱스 생성 및 저장\n",
    "def create_and_save_langchain_faiss(documents, embeddings, save_path):\n",
    "    vector_store = FAISS.from_embeddings(embeddings, documents)  # 벡터 저장소 생성\n",
    "    vector_store.save_local(save_path)  # 저장\n",
    "    print(f\"✅ LangChain FAISS 인덱스가 {save_path} 에 저장되었습니다.\")\n",
    "\n",
    "# 실행 코드\n",
    "if __name__ == \"__main__\":\n",
    "    csv_filepath = \"./csv/운영체제_중간과제물.csv\"\n",
    "    save_path = \"./faiss_store\"\n",
    "\n",
    "    # CSV에서 문서 + 임베딩 로드\n",
    "    documents, embeddings = load_documents_and_embeddings(csv_filepath)\n",
    "\n",
    "    # FAISS 저장\n",
    "    create_and_save_langchain_faiss(documents, embeddings, save_path)\n"
   ]
  }
 ],
 "metadata": {
  "kernelspec": {
   "display_name": "Python 3",
   "language": "python",
   "name": "python3"
  },
  "language_info": {
   "codemirror_mode": {
    "name": "ipython",
    "version": 3
   },
   "file_extension": ".py",
   "mimetype": "text/x-python",
   "name": "python",
   "nbconvert_exporter": "python",
   "pygments_lexer": "ipython3",
   "version": "3.12.2"
  }
 },
 "nbformat": 4,
 "nbformat_minor": 2
}

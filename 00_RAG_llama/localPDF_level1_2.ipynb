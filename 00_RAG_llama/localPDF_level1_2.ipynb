{
 "cells": [
  {
   "cell_type": "markdown",
   "metadata": {},
   "source": [
    "## 로컬 환경에서 PDF 검색하기 1단계 step2\n",
    "- PDF 문서를 로드하고 한국어 임베딩 모델을 적용하여 벡터 DB 생성\n",
    "- 생성된 벡터 DB 에 검색기를 생성하고 LLM 모델을 추가하여 검색하기 \n",
    "\n",
    "### - 사용한 임베딩 모델 jhgan/ko-sroberta-multitask\n",
    "### - 사용한 LLM llama3.2"
   ]
  },
  {
   "cell_type": "code",
   "execution_count": 1,
   "metadata": {},
   "outputs": [
    {
     "name": "stdout",
     "output_type": "stream",
     "text": [
      "Requirement already satisfied: langchain in c:\\01.sumin\\dev\\langchain_pilot\\.venv\\lib\\site-packages (0.3.17)\n",
      "Requirement already satisfied: langchain_core in c:\\01.sumin\\dev\\langchain_pilot\\.venv\\lib\\site-packages (0.3.33)\n",
      "Requirement already satisfied: sentence-transformers in c:\\01.sumin\\dev\\langchain_pilot\\.venv\\lib\\site-packages (3.4.1)\n",
      "Requirement already satisfied: faiss-cpu in c:\\01.sumin\\dev\\langchain_pilot\\.venv\\lib\\site-packages (1.10.0)\n",
      "Requirement already satisfied: pymupdf in c:\\01.sumin\\dev\\langchain_pilot\\.venv\\lib\\site-packages (1.25.2)\n",
      "Requirement already satisfied: PyYAML>=5.3 in c:\\01.sumin\\dev\\langchain_pilot\\.venv\\lib\\site-packages (from langchain) (6.0.2)\n",
      "Requirement already satisfied: SQLAlchemy<3,>=1.4 in c:\\01.sumin\\dev\\langchain_pilot\\.venv\\lib\\site-packages (from langchain) (2.0.37)\n",
      "Requirement already satisfied: aiohttp<4.0.0,>=3.8.3 in c:\\01.sumin\\dev\\langchain_pilot\\.venv\\lib\\site-packages (from langchain) (3.11.11)\n",
      "Requirement already satisfied: langchain-text-splitters<0.4.0,>=0.3.3 in c:\\01.sumin\\dev\\langchain_pilot\\.venv\\lib\\site-packages (from langchain) (0.3.5)\n",
      "Requirement already satisfied: langsmith<0.4,>=0.1.17 in c:\\01.sumin\\dev\\langchain_pilot\\.venv\\lib\\site-packages (from langchain) (0.3.4)\n",
      "Requirement already satisfied: numpy<2,>=1.22.4 in c:\\01.sumin\\dev\\langchain_pilot\\.venv\\lib\\site-packages (from langchain) (1.26.4)\n",
      "Requirement already satisfied: pydantic<3.0.0,>=2.7.4 in c:\\01.sumin\\dev\\langchain_pilot\\.venv\\lib\\site-packages (from langchain) (2.10.6)\n",
      "Requirement already satisfied: requests<3,>=2 in c:\\01.sumin\\dev\\langchain_pilot\\.venv\\lib\\site-packages (from langchain) (2.32.3)\n",
      "Requirement already satisfied: tenacity!=8.4.0,<10,>=8.1.0 in c:\\01.sumin\\dev\\langchain_pilot\\.venv\\lib\\site-packages (from langchain) (9.0.0)\n",
      "Requirement already satisfied: jsonpatch<2.0,>=1.33 in c:\\01.sumin\\dev\\langchain_pilot\\.venv\\lib\\site-packages (from langchain_core) (1.33)\n",
      "Requirement already satisfied: packaging<25,>=23.2 in c:\\01.sumin\\dev\\langchain_pilot\\.venv\\lib\\site-packages (from langchain_core) (24.2)\n",
      "Requirement already satisfied: typing-extensions>=4.7 in c:\\01.sumin\\dev\\langchain_pilot\\.venv\\lib\\site-packages (from langchain_core) (4.12.2)\n",
      "Requirement already satisfied: transformers<5.0.0,>=4.41.0 in c:\\01.sumin\\dev\\langchain_pilot\\.venv\\lib\\site-packages (from sentence-transformers) (4.48.2)\n",
      "Requirement already satisfied: tqdm in c:\\01.sumin\\dev\\langchain_pilot\\.venv\\lib\\site-packages (from sentence-transformers) (4.67.1)\n",
      "Requirement already satisfied: torch>=1.11.0 in c:\\01.sumin\\dev\\langchain_pilot\\.venv\\lib\\site-packages (from sentence-transformers) (2.6.0)\n",
      "Requirement already satisfied: scikit-learn in c:\\01.sumin\\dev\\langchain_pilot\\.venv\\lib\\site-packages (from sentence-transformers) (1.6.1)\n",
      "Requirement already satisfied: scipy in c:\\01.sumin\\dev\\langchain_pilot\\.venv\\lib\\site-packages (from sentence-transformers) (1.15.1)\n",
      "Requirement already satisfied: huggingface-hub>=0.20.0 in c:\\01.sumin\\dev\\langchain_pilot\\.venv\\lib\\site-packages (from sentence-transformers) (0.28.1)\n",
      "Requirement already satisfied: Pillow in c:\\01.sumin\\dev\\langchain_pilot\\.venv\\lib\\site-packages (from sentence-transformers) (11.1.0)\n",
      "Requirement already satisfied: aiohappyeyeballs>=2.3.0 in c:\\01.sumin\\dev\\langchain_pilot\\.venv\\lib\\site-packages (from aiohttp<4.0.0,>=3.8.3->langchain) (2.4.4)\n",
      "Requirement already satisfied: aiosignal>=1.1.2 in c:\\01.sumin\\dev\\langchain_pilot\\.venv\\lib\\site-packages (from aiohttp<4.0.0,>=3.8.3->langchain) (1.3.2)\n",
      "Requirement already satisfied: attrs>=17.3.0 in c:\\01.sumin\\dev\\langchain_pilot\\.venv\\lib\\site-packages (from aiohttp<4.0.0,>=3.8.3->langchain) (25.1.0)\n",
      "Requirement already satisfied: frozenlist>=1.1.1 in c:\\01.sumin\\dev\\langchain_pilot\\.venv\\lib\\site-packages (from aiohttp<4.0.0,>=3.8.3->langchain) (1.5.0)\n",
      "Requirement already satisfied: multidict<7.0,>=4.5 in c:\\01.sumin\\dev\\langchain_pilot\\.venv\\lib\\site-packages (from aiohttp<4.0.0,>=3.8.3->langchain) (6.1.0)\n",
      "Requirement already satisfied: propcache>=0.2.0 in c:\\01.sumin\\dev\\langchain_pilot\\.venv\\lib\\site-packages (from aiohttp<4.0.0,>=3.8.3->langchain) (0.2.1)\n",
      "Requirement already satisfied: yarl<2.0,>=1.17.0 in c:\\01.sumin\\dev\\langchain_pilot\\.venv\\lib\\site-packages (from aiohttp<4.0.0,>=3.8.3->langchain) (1.18.3)\n",
      "Requirement already satisfied: filelock in c:\\01.sumin\\dev\\langchain_pilot\\.venv\\lib\\site-packages (from huggingface-hub>=0.20.0->sentence-transformers) (3.17.0)\n",
      "Requirement already satisfied: fsspec>=2023.5.0 in c:\\01.sumin\\dev\\langchain_pilot\\.venv\\lib\\site-packages (from huggingface-hub>=0.20.0->sentence-transformers) (2025.2.0)\n",
      "Requirement already satisfied: jsonpointer>=1.9 in c:\\01.sumin\\dev\\langchain_pilot\\.venv\\lib\\site-packages (from jsonpatch<2.0,>=1.33->langchain_core) (3.0.0)\n",
      "Requirement already satisfied: httpx<1,>=0.23.0 in c:\\01.sumin\\dev\\langchain_pilot\\.venv\\lib\\site-packages (from langsmith<0.4,>=0.1.17->langchain) (0.28.1)\n",
      "Requirement already satisfied: orjson<4.0.0,>=3.9.14 in c:\\01.sumin\\dev\\langchain_pilot\\.venv\\lib\\site-packages (from langsmith<0.4,>=0.1.17->langchain) (3.10.15)\n",
      "Requirement already satisfied: requests-toolbelt<2.0.0,>=1.0.0 in c:\\01.sumin\\dev\\langchain_pilot\\.venv\\lib\\site-packages (from langsmith<0.4,>=0.1.17->langchain) (1.0.0)\n",
      "Requirement already satisfied: zstandard<0.24.0,>=0.23.0 in c:\\01.sumin\\dev\\langchain_pilot\\.venv\\lib\\site-packages (from langsmith<0.4,>=0.1.17->langchain) (0.23.0)\n",
      "Requirement already satisfied: annotated-types>=0.6.0 in c:\\01.sumin\\dev\\langchain_pilot\\.venv\\lib\\site-packages (from pydantic<3.0.0,>=2.7.4->langchain) (0.7.0)\n",
      "Requirement already satisfied: pydantic-core==2.27.2 in c:\\01.sumin\\dev\\langchain_pilot\\.venv\\lib\\site-packages (from pydantic<3.0.0,>=2.7.4->langchain) (2.27.2)\n",
      "Requirement already satisfied: charset-normalizer<4,>=2 in c:\\01.sumin\\dev\\langchain_pilot\\.venv\\lib\\site-packages (from requests<3,>=2->langchain) (3.4.1)\n",
      "Requirement already satisfied: idna<4,>=2.5 in c:\\01.sumin\\dev\\langchain_pilot\\.venv\\lib\\site-packages (from requests<3,>=2->langchain) (3.10)\n",
      "Requirement already satisfied: urllib3<3,>=1.21.1 in c:\\01.sumin\\dev\\langchain_pilot\\.venv\\lib\\site-packages (from requests<3,>=2->langchain) (2.3.0)\n",
      "Requirement already satisfied: certifi>=2017.4.17 in c:\\01.sumin\\dev\\langchain_pilot\\.venv\\lib\\site-packages (from requests<3,>=2->langchain) (2025.1.31)\n",
      "Requirement already satisfied: greenlet!=0.4.17 in c:\\01.sumin\\dev\\langchain_pilot\\.venv\\lib\\site-packages (from SQLAlchemy<3,>=1.4->langchain) (3.1.1)\n",
      "Requirement already satisfied: networkx in c:\\01.sumin\\dev\\langchain_pilot\\.venv\\lib\\site-packages (from torch>=1.11.0->sentence-transformers) (3.4.2)\n",
      "Requirement already satisfied: jinja2 in c:\\01.sumin\\dev\\langchain_pilot\\.venv\\lib\\site-packages (from torch>=1.11.0->sentence-transformers) (3.1.5)\n",
      "Requirement already satisfied: sympy==1.13.1 in c:\\01.sumin\\dev\\langchain_pilot\\.venv\\lib\\site-packages (from torch>=1.11.0->sentence-transformers) (1.13.1)\n",
      "Requirement already satisfied: mpmath<1.4,>=1.1.0 in c:\\01.sumin\\dev\\langchain_pilot\\.venv\\lib\\site-packages (from sympy==1.13.1->torch>=1.11.0->sentence-transformers) (1.3.0)\n",
      "Requirement already satisfied: colorama in c:\\01.sumin\\dev\\langchain_pilot\\.venv\\lib\\site-packages (from tqdm->sentence-transformers) (0.4.6)\n",
      "Requirement already satisfied: regex!=2019.12.17 in c:\\01.sumin\\dev\\langchain_pilot\\.venv\\lib\\site-packages (from transformers<5.0.0,>=4.41.0->sentence-transformers) (2024.11.6)\n",
      "Requirement already satisfied: tokenizers<0.22,>=0.21 in c:\\01.sumin\\dev\\langchain_pilot\\.venv\\lib\\site-packages (from transformers<5.0.0,>=4.41.0->sentence-transformers) (0.21.0)\n",
      "Requirement already satisfied: safetensors>=0.4.1 in c:\\01.sumin\\dev\\langchain_pilot\\.venv\\lib\\site-packages (from transformers<5.0.0,>=4.41.0->sentence-transformers) (0.5.2)\n",
      "Requirement already satisfied: joblib>=1.2.0 in c:\\01.sumin\\dev\\langchain_pilot\\.venv\\lib\\site-packages (from scikit-learn->sentence-transformers) (1.4.2)\n",
      "Requirement already satisfied: threadpoolctl>=3.1.0 in c:\\01.sumin\\dev\\langchain_pilot\\.venv\\lib\\site-packages (from scikit-learn->sentence-transformers) (3.5.0)\n",
      "Requirement already satisfied: anyio in c:\\01.sumin\\dev\\langchain_pilot\\.venv\\lib\\site-packages (from httpx<1,>=0.23.0->langsmith<0.4,>=0.1.17->langchain) (4.8.0)\n",
      "Requirement already satisfied: httpcore==1.* in c:\\01.sumin\\dev\\langchain_pilot\\.venv\\lib\\site-packages (from httpx<1,>=0.23.0->langsmith<0.4,>=0.1.17->langchain) (1.0.7)\n",
      "Requirement already satisfied: h11<0.15,>=0.13 in c:\\01.sumin\\dev\\langchain_pilot\\.venv\\lib\\site-packages (from httpcore==1.*->httpx<1,>=0.23.0->langsmith<0.4,>=0.1.17->langchain) (0.14.0)\n",
      "Requirement already satisfied: MarkupSafe>=2.0 in c:\\01.sumin\\dev\\langchain_pilot\\.venv\\lib\\site-packages (from jinja2->torch>=1.11.0->sentence-transformers) (3.0.2)\n",
      "Requirement already satisfied: sniffio>=1.1 in c:\\01.sumin\\dev\\langchain_pilot\\.venv\\lib\\site-packages (from anyio->httpx<1,>=0.23.0->langsmith<0.4,>=0.1.17->langchain) (1.3.1)\n",
      "Note: you may need to restart the kernel to use updated packages.\n"
     ]
    }
   ],
   "source": [
    "# 라이브러리 설치 (필요한 경우 실행)\n",
    "%pip install -U langchain langchain_core sentence-transformers faiss-cpu pymupdf"
   ]
  },
  {
   "cell_type": "code",
   "execution_count": 2,
   "metadata": {},
   "outputs": [],
   "source": [
    "# 필요한 라이브러리 임포트\n",
    "from langchain.document_loaders import PyMuPDFLoader\n",
    "from langchain.text_splitter import RecursiveCharacterTextSplitter\n",
    "from langchain.vectorstores import FAISS\n",
    "from langchain.docstore.document import Document\n",
    "from langchain_core.embeddings import Embeddings  \n",
    "from sentence_transformers import SentenceTransformer\n",
    "\n",
    "# Step 1: 문서 로드\n",
    "# loader = PyMuPDFLoader(\"data/SPRI_AI_Brief_2023년12월호_F.pdf\")\n",
    "loader = PyMuPDFLoader(\"data/AI기반_인파분석플랫폼구축_제안서.pdf\")\n",
    "docs = loader.load()\n",
    "\n",
    "# Step 2: 문서 분할\n",
    "text_splitter = RecursiveCharacterTextSplitter(chunk_size=1000, chunk_overlap=50)\n",
    "split_documents = text_splitter.split_documents(docs)"
   ]
  },
  {
   "cell_type": "code",
   "execution_count": 3,
   "metadata": {},
   "outputs": [],
   "source": [
    "# Step 3: SentenceTransformer 모델을 LangChain의 Embeddings 클래스로 감싸기\n",
    "class KoSentenceTransformerEmbeddings(Embeddings):\n",
    "    def __init__(self, model_name):\n",
    "        self.model = SentenceTransformer(model_name)\n",
    "\n",
    "    def embed_documents(self, texts):\n",
    "        \"\"\"문서 리스트를 벡터로 변환\"\"\"\n",
    "        return self.model.encode(texts, convert_to_numpy=True).tolist()\n",
    "\n",
    "    def embed_query(self, text):\n",
    "        \"\"\"검색 쿼리를 벡터로 변환\"\"\"\n",
    "        return self.model.encode([text], convert_to_numpy=True).tolist()[0]\n",
    "\n",
    "\n",
    "# Step 4: 모델 로드 및 FAISS 인덱스 생성\n",
    "embedding_model = KoSentenceTransformerEmbeddings(\"jhgan/ko-sroberta-multitask\")\n",
    "faiss_index = FAISS.from_documents(split_documents, embedding_model)"
   ]
  },
  {
   "cell_type": "code",
   "execution_count": 4,
   "metadata": {},
   "outputs": [],
   "source": [
    "# Step 5: FAISS 검색기 생성 (as_retriever() 사용)\n",
    "retriever = faiss_index.as_retriever(search_type=\"similarity\", search_kwargs={\"k\": 5})"
   ]
  },
  {
   "cell_type": "code",
   "execution_count": 5,
   "metadata": {},
   "outputs": [
    {
     "data": {
      "text/plain": [
       "[Document(id='b004e31f-1884-44ae-bed9-1591360abbed', metadata={'producer': '알PDF', 'creator': '알PDF', 'creationdate': '2024-06-09T21:45:38+09:00', 'source': 'data/AI기반_인파분석플랫폼구축_제안서.pdf', 'file_path': 'data/AI기반_인파분석플랫폼구축_제안서.pdf', 'total_pages': 113, 'format': 'PDF 1.7', 'title': '합치기_2', 'author': '유선철', 'subject': '', 'keywords': '', 'moddate': '2024-06-09T21:57:34+09:00', 'trapped': '', 'page': 10}, page_content='방문객수\\n연도\\n151만명\\n2019 년\\n189만명\\n2018 년\\n203만명\\n2017 년\\n187만명\\n2016 년\\n103만명\\n2015 년\\n방문객수\\n행사명\\n연도\\n3.5만명\\n청년문화페스티벌\\n2023 년\\n1.5만명\\n붐업페스티벌\\n2018 년\\n-\\n-\\n-\\n-\\n-\\n-'),\n",
       " Document(id='4b1f4c24-e87c-4815-8245-26684b007bf4', metadata={'producer': '알PDF', 'creator': '알PDF', 'creationdate': '2024-06-09T21:45:38+09:00', 'source': 'data/AI기반_인파분석플랫폼구축_제안서.pdf', 'file_path': 'data/AI기반_인파분석플랫폼구축_제안서.pdf', 'total_pages': 113, 'format': 'PDF 1.7', 'title': '합치기_2', 'author': '유선철', 'subject': '', 'keywords': '', 'moddate': '2024-06-09T21:57:34+09:00', 'trapped': '', 'page': 51}, page_content='SFR-002\\nSec \\n1-2\\n위치: 경북포항시북구상대로\\n59-1\\n상태: 정상'),\n",
       " Document(id='64a12833-693e-43d5-82fb-8464ff850dfb', metadata={'producer': '알PDF', 'creator': '알PDF', 'creationdate': '2024-06-09T21:45:38+09:00', 'source': 'data/AI기반_인파분석플랫폼구축_제안서.pdf', 'file_path': 'data/AI기반_인파분석플랫폼구축_제안서.pdf', 'total_pages': 113, 'format': 'PDF 1.7', 'title': '합치기_2', 'author': '유선철', 'subject': '', 'keywords': '', 'moddate': '2024-06-09T21:57:34+09:00', 'trapped': '', 'page': 56}, page_content='SFR-006\\n•\\n1/1.8” CMOS Image Sensor\\n•\\n야간초저조도기능\\n•\\n최대30fps, 3840x2160\\n•\\n지능형영상분석기능(가상선/영역, 출입감지, 방향감지, \\n움직임감지등)\\n•\\nAI 기반객체감지기능(사람, 자동차, 오토바이, 자전거, \\n번호판등)\\n* 객체상세분류: 성별,색상,모자,마스크,가방등\\n•\\nAI 기반분석속성값제공\\n실종자인상착의\\n안경:  \\n없음\\n상의색상: 파란셔츠\\n하의색상:     검은색\\n가방:        있음\\n사람\\n자동차\\n동물\\n기타\\n성별, 상/하의색상, \\n바지/치마, 마스크, 안경, \\n가방, 모자, 얼굴등\\n번호판, 자전거, 색상, \\n차종등\\n개, 고양이, 멧돼지, \\n고라니등\\n비행기, 선박등'),\n",
       " Document(id='e07c6299-f7ac-4f36-9c6d-0cc4d6b39acf', metadata={'producer': '알PDF', 'creator': '알PDF', 'creationdate': '2024-06-09T21:45:38+09:00', 'source': 'data/AI기반_인파분석플랫폼구축_제안서.pdf', 'file_path': 'data/AI기반_인파분석플랫폼구축_제안서.pdf', 'total_pages': 113, 'format': 'PDF 1.7', 'title': '합치기_2', 'author': '유선철', 'subject': '', 'keywords': '', 'moddate': '2024-06-09T21:57:34+09:00', 'trapped': '', 'page': 58}, page_content='SFR-006\\n심각(170%∼)\\n혼잡(∼170%)\\n주의(∼150%)\\n보통(∼130%)\\n기준(100%)\\n5.6 이상\\n5.6 이하\\n5.0 이하\\n4.3 이하\\n3.3명\\n심각(170%∼)\\n혼잡(∼170%)\\n주의(∼150%)\\n보통(∼130%)\\n기준(100%)\\n136 이상\\n136 이하\\n120 이하\\n104 이하\\n80\\n1구역\\n2구역\\n3구역\\n4구역\\nSec.1-1\\nSec. 1-2\\nSec. 2-1\\nSec. 2-2\\nSec. 3-1\\nSec. 3-2\\nSec. 4-1\\nSec. 3-3\\nSec. 4-3\\nSec. 4-2'),\n",
       " Document(id='b31ebc33-3cf7-4b3e-8170-208d29018fea', metadata={'producer': '알PDF', 'creator': '알PDF', 'creationdate': '2024-06-09T21:45:38+09:00', 'source': 'data/AI기반_인파분석플랫폼구축_제안서.pdf', 'file_path': 'data/AI기반_인파분석플랫폼구축_제안서.pdf', 'total_pages': 113, 'format': 'PDF 1.7', 'title': '합치기_2', 'author': '유선철', 'subject': '', 'keywords': '', 'moddate': '2024-06-09T21:57:34+09:00', 'trapped': '', 'page': 78}, page_content='SFR-009\\n• 사용자접근성과업무흐름을\\n고려하여인트로, 메인, 서브화면등의\\n표준안제시\\n• 사람들의시선이동방향\\n(좌→우, 위→아래)을고려한\\n실용적인UI 배치방안제시\\n• 컨셉과키워드를적절히표현할수있는색상\\n선정및적용\\n• 일반적으로구분하기쉽고, 색상표에서인접하지\\n않은색상선택\\n실용적인\\n기능적인\\n하이테크의\\n진보적인\\nStatic\\nSoft\\nHard\\nDynamic')]"
      ]
     },
     "execution_count": 5,
     "metadata": {},
     "output_type": "execute_result"
    }
   ],
   "source": [
    "# 검색기 테스트\n",
    "query = \"포항에서 열리는 축제의 이름이 뭐야?\"\n",
    "retriever.invoke(query)"
   ]
  },
  {
   "cell_type": "code",
   "execution_count": 6,
   "metadata": {},
   "outputs": [],
   "source": [
    "# Step 6 : 프롬프트 생성 \n",
    "from langchain_core.prompts import PromptTemplate\n",
    "\n",
    "prompt = PromptTemplate.from_template(\n",
    "    \"\"\"You are an assistant for question-answering tasks. \n",
    "Use the following pieces of retrieved context to answer the question. \n",
    "If you don't know the answer, just say that you don't know. \n",
    "Answer in Korean,and make sure the answer ends with '입니다'.\n",
    "\n",
    "#Context: \n",
    "{context}\n",
    "\n",
    "#Question:\n",
    "{question}\n",
    "\n",
    "#Answer(Ensure the response ends with '입니다'):\"\"\"\n",
    ")"
   ]
  },
  {
   "cell_type": "code",
   "execution_count": 7,
   "metadata": {},
   "outputs": [
    {
     "name": "stderr",
     "output_type": "stream",
     "text": [
      "C:\\Users\\morcs\\AppData\\Local\\Temp\\ipykernel_39084\\2227855636.py:4: LangChainDeprecationWarning: The class `Ollama` was deprecated in LangChain 0.3.1 and will be removed in 1.0.0. An updated version of the class exists in the :class:`~langchain-ollama package and should be used instead. To use it run `pip install -U :class:`~langchain-ollama` and import as `from :class:`~langchain_ollama import OllamaLLM``.\n",
      "  llm = Ollama(model=\"llama3.2\")\n"
     ]
    }
   ],
   "source": [
    "# Step 7 : 언어 모델 (LLM) 생성\n",
    "from langchain_community.llms import Ollama\n",
    "\n",
    "llm = Ollama(model=\"llama3.2\")"
   ]
  },
  {
   "cell_type": "code",
   "execution_count": 8,
   "metadata": {},
   "outputs": [],
   "source": [
    "# 단계 8: 체인(Chain) 생성\n",
    "from langchain_core.runnables import RunnablePassthrough\n",
    "from langchain_core.output_parsers import StrOutputParser\n",
    "\n",
    "chain = (\n",
    "    {\"context\": retriever, \"question\": RunnablePassthrough()}\n",
    "    | prompt\n",
    "    | llm\n",
    "    | StrOutputParser()\n",
    ")"
   ]
  },
  {
   "cell_type": "code",
   "execution_count": 9,
   "metadata": {},
   "outputs": [
    {
     "name": "stdout",
     "output_type": "stream",
     "text": [
      "청년 문화 페스티벌, 붐업 페스티벌, -입니다.\n"
     ]
    }
   ],
   "source": [
    "# 체인 실행(Run Chain)\n",
    "# 문서에 대한 질의를 입력하고, 답변을 출력합니다.\n",
    "question = \"포항에서 열리는 축제의 이름이 뭐야?\"\n",
    "response = chain.invoke(question)\n",
    "print(response)"
   ]
  },
  {
   "cell_type": "code",
   "execution_count": 10,
   "metadata": {},
   "outputs": [
    {
     "name": "stdout",
     "output_type": "stream",
     "text": [
      "당대에만 있는 청년 문화 페스티벌은 청소년을 위한 장르 페스티벌로, 2024년 10월에 개장했으며, 2일간에 5만 명 이상의 청소년이 방문했습니다.\n"
     ]
    }
   ],
   "source": [
    "question = \"청년 문화 페스티벌의 2024년 방문자수가 몇명이야?\"\n",
    "response = chain.invoke(question)\n",
    "print(response)"
   ]
  },
  {
   "cell_type": "code",
   "execution_count": null,
   "metadata": {},
   "outputs": [],
   "source": []
  }
 ],
 "metadata": {
  "kernelspec": {
   "display_name": ".venv",
   "language": "python",
   "name": "python3"
  },
  "language_info": {
   "codemirror_mode": {
    "name": "ipython",
    "version": 3
   },
   "file_extension": ".py",
   "mimetype": "text/x-python",
   "name": "python",
   "nbconvert_exporter": "python",
   "pygments_lexer": "ipython3",
   "version": "3.11.9"
  }
 },
 "nbformat": 4,
 "nbformat_minor": 2
}
